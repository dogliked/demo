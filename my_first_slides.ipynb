{
 "cells": [
  {
   "cell_type": "markdown",
   "metadata": {},
   "source": [
    "<html>\n",
    "\n",
    "<head>\n",
    "    <title>This is my first web page.</title>\n",
    "</head>\n",
    "\n",
    "<body>\n",
    "    Welcome to our Python Workshop!\n",
    "</body>\n",
    "\n",
    "\n",
    "</html>"
   ]
  },
  {
   "cell_type": "markdown",
   "metadata": {},
   "source": [
    "<html>\n",
    "\n",
    "<head>\n",
    "    <title>This is a title.</title>\n",
    "</head>\n",
    "\n",
    "<body>\n",
    "    This is body.\n",
    "    <ol>\n",
    "    <ul>\n",
    "        <li>1 st item</li>\n",
    "        <li>2 nd item</li>\n",
    "    </ul>\n",
    "    </ol>\n",
    "</body>\n",
    "\n",
    "\n",
    "</html>"
   ]
  },
  {
   "cell_type": "markdown",
   "metadata": {},
   "source": [
    "<html>\n",
    "\n",
    "<head>\n",
    "    <title>My web page</title>\n",
    "</head>\n",
    "\n",
    "<body>\n",
    "    This is body.\n",
    "    <ol>\n",
    "        <li style= \"color:#ff0000;font-size:100px\">1st ordered item</li>\n",
    "        <li style= \"color:#00ff00;font-size:100px\">2nd ordered item</li>\n",
    "        <li style= \"color:#0000ff;font-size:100px\">3rd ordered item</li>\n",
    "    </ol>\n",
    "    <br>\n",
    "    <ul>\n",
    "        <li>1st ordered item</li>\n",
    "        <li>2nd ordered item</li>\n",
    "    </ul>\n",
    "</body>\n",
    "\n",
    "\n",
    "</html>"
   ]
  },
  {
   "cell_type": "markdown",
   "metadata": {},
   "source": [
    "<html>\n",
    "\n",
    "<head>\n",
    "    <title>My web page</title>\n",
    "    <style>\n",
    "        li{\n",
    "            color:#00ff00;\n",
    "            font-size: 30px;\n",
    "        }\n",
    "    </style>\n",
    "</head>\n",
    "\n",
    "<body>\n",
    "    This is body.\n",
    "    <ol>\n",
    "        <li>1st ordered item</li>\n",
    "        <li>2nd ordered item</li>\n",
    "        <li>3rd ordered item</li>\n",
    "    </ol>\n",
    "    <br>\n",
    "    <ul>\n",
    "        <li>1st ordered item</li>\n",
    "        <li>2nd ordered item</li>\n",
    "    </ul>\n",
    "</body>\n",
    "\n",
    "\n",
    "</html>"
   ]
  },
  {
   "cell_type": "markdown",
   "metadata": {},
   "source": [
    "<ol>\n",
    "    <li>1 st ordered item</li>\n",
    "    <li>2 nd ordered item</li>\n",
    "</ol>"
   ]
  },
  {
   "cell_type": "markdown",
   "metadata": {},
   "source": [
    "<ul>\n",
    "    <li style=\"font-size:50px;\">1 st ordered item</li>\n",
    "    <li>2 nd ordered item</li>\n",
    "</ul>"
   ]
  },
  {
   "cell_type": "markdown",
   "metadata": {
    "slideshow": {
     "slide_type": "slide"
    }
   },
   "source": [
    "\\begin{equation*}\n",
    "s = \\sqrt \\frac{\\sum_{k=1}^n\\left(x-\\overline{x}\\right)^2}{n}\n",
    "\\end{equation*}"
   ]
  },
  {
   "cell_type": "raw",
   "metadata": {
    "slideshow": {
     "slide_type": "-"
    }
   },
   "source": [
    "\\begin{equation*}\n",
    "s = \\sqrt \\frac{\\sum_{k=1}^n\\left(x-\\overline{x}\\right)^2}{n}\n",
    "\\end{equation*}"
   ]
  },
  {
   "cell_type": "code",
   "execution_count": null,
   "metadata": {},
   "outputs": [],
   "source": []
  }
 ],
 "metadata": {
  "celltoolbar": "Slideshow",
  "kernelspec": {
   "display_name": "Python 3",
   "language": "python",
   "name": "python3"
  },
  "language_info": {
   "codemirror_mode": {
    "name": "ipython",
    "version": 3
   },
   "file_extension": ".py",
   "mimetype": "text/x-python",
   "name": "python",
   "nbconvert_exporter": "python",
   "pygments_lexer": "ipython3",
   "version": "3.4.8"
  }
 },
 "nbformat": 4,
 "nbformat_minor": 2
}
